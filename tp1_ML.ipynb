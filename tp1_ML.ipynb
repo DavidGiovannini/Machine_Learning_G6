{
 "cells": [
  {
   "cell_type": "markdown",
   "id": "9c8f8b71-3167-450f-8671-8a8fffa53162",
   "metadata": {},
   "source": [
    "<h1>Analisis Exploratorio de Datos (EDA)</h1>"
   ]
  },
  {
   "cell_type": "markdown",
   "id": "9ba95282-76ec-49e9-81cd-426058fc7653",
   "metadata": {},
   "source": [
    "<h2>1. Listado de Variables y Selección</h2>"
   ]
  },
  {
   "cell_type": "markdown",
   "id": "0e6861c5-8a76-4a5d-82fc-5c2f1af9b44e",
   "metadata": {},
   "source": [
    "El dataset que utilizaremos esta constituido con un total de 3000 filas x 16 columnas, que muestran por cada paciente(de género: F o M, y Edad) un conjunto de síntomas y actividades que poseen, toda esta informacion se encuentra en el archivo dataset \"Lung_Cancer.csv\""
   ]
  },
  {
   "cell_type": "markdown",
   "id": "c0a6a183-1066-4ca7-b027-5ff742742a8f",
   "metadata": {},
   "source": [
    "<h3>Variables de Entrada</h3>"
   ]
  },
  {
   "cell_type": "markdown",
   "id": "9a03c4b2-9ee7-4e83-a263-c0a9f2cf83e7",
   "metadata": {},
   "source": [
    "Consideraremos para este Trabajo: 2 = **SI**, 1 = **NO**."
   ]
  },
  {
   "cell_type": "markdown",
   "id": "2222c36f-41f8-47a3-8aed-d0e4de3db720",
   "metadata": {},
   "source": [
    "- **Gender:** Género del paciente, Actualmente (F: Femenino, M: Masculino), **lo vamos a reconvertir** (1: Femenino, 2: Masculino).\n",
    "- **Age:** Edad del paciente.\n",
    "- **Smoking:** Si el paciente es un fumador habitual.\n",
    "- **Yellow_Fingers:** Si el paciente posee el síntoma de *Dedos Amarillos.*\n",
    "- **Anxiety:** Si el paciente posee el síntoma de *Ansiedad.*\n",
    "- **Peer_Pressure:** Si el paciente sufre de *Presión* por fumar o tomar alcohol.\n",
    "- **Chronic_Disease:** Si el paciente sufre de algun tipo de enfermedad crónica.\n",
    "- **Fatigue:** Si el paciente experimenta *Fatiga.*\n",
    "- **Allergy:** Si el paciente sufre de algún tipo de *Alergia.*\n",
    "- **Wheezing:** Si se oye algún tipo de sonido agudo en la respiración del paciente.\n",
    "- **Alcohol_Consuming:** Si el paciente es alcoholico.\n",
    "- **Coughing:** Si el paciente presenta *Tos.*\n",
    "- **Shortness_Of_Breath:** Si el paciente posee dificultad para respirar.\n",
    "- **Swallowing_Dificulty:** Si el paciente posee dificultad para tragar.\n",
    "- **Chest_Pain:** Si el paciente padece de dolor en el pecho.\n",
    "- **LUNG_CANCER:** El diagnóstico final sobre la presencia de Cáncer de Pulmón, Actualmente (YES, NO), **lo vamos a reconvertir** (1: SI, 2: NO)."
   ]
  },
  {
   "cell_type": "markdown",
   "id": "f2c5528a-8952-4726-bb45-7c3040ef1753",
   "metadata": {},
   "source": [
    "<h3>Variables de Salida</h3>"
   ]
  },
  {
   "cell_type": "markdown",
   "id": "ad819dd9-f6a7-4d5a-a696-689e3b8daf8c",
   "metadata": {},
   "source": [
    "Nuestra variable de salida será **LUNG_CANCER**, (1: Presenta Cáncer, 2: No presenta Cáncer). Con esta variable vamos a predecir si un paciente posee Cáncer de Pulmón o no. "
   ]
  },
  {
   "cell_type": "markdown",
   "id": "692eb505-64ba-4aaa-b412-3c15a31efc32",
   "metadata": {},
   "source": [
    "<h3>Variables que no se Utilizarán</h3>"
   ]
  },
  {
   "cell_type": "markdown",
   "id": "be4667b7-6255-4f05-983f-f9c8fd78b109",
   "metadata": {},
   "source": [
    "(VER) Si hay alguna que no podamos utilizar, por el momento las utilizaremos todas."
   ]
  },
  {
   "cell_type": "code",
   "execution_count": 2,
   "id": "9ace91b8-be37-4fec-890a-9f58374ecb83",
   "metadata": {},
   "outputs": [],
   "source": [
    "# Importamos las dependencias necesarias.\n",
    "import numpy as np\n",
    "import pandas as pd\n",
    "import matplotlib.pyplot as plt\n",
    "import seaborn as sns\n",
    "import plotly\n",
    "import plotly.express as px\n",
    "import sklearn_pandas\n",
    "from matplotlib import gridspec\n",
    "import pytz\n",
    "import random\n",
    "import os"
   ]
  },
  {
   "cell_type": "code",
   "execution_count": 3,
   "id": "21ffdde2-4d48-43ae-9b13-e5610a69853b",
   "metadata": {},
   "outputs": [
    {
     "data": {
      "text/html": [
       "<div>\n",
       "<style scoped>\n",
       "    .dataframe tbody tr th:only-of-type {\n",
       "        vertical-align: middle;\n",
       "    }\n",
       "\n",
       "    .dataframe tbody tr th {\n",
       "        vertical-align: top;\n",
       "    }\n",
       "\n",
       "    .dataframe thead th {\n",
       "        text-align: right;\n",
       "    }\n",
       "</style>\n",
       "<table border=\"1\" class=\"dataframe\">\n",
       "  <thead>\n",
       "    <tr style=\"text-align: right;\">\n",
       "      <th></th>\n",
       "      <th>GENDER</th>\n",
       "      <th>AGE</th>\n",
       "      <th>SMOKING</th>\n",
       "      <th>YELLOW_FINGERS</th>\n",
       "      <th>ANXIETY</th>\n",
       "      <th>PEER_PRESSURE</th>\n",
       "      <th>CHRONIC_DISEASE</th>\n",
       "      <th>FATIGUE</th>\n",
       "      <th>ALLERGY</th>\n",
       "      <th>WHEEZING</th>\n",
       "      <th>ALCOHOL_CONSUMING</th>\n",
       "      <th>COUGHING</th>\n",
       "      <th>SHORTNESS_OF_BREATH</th>\n",
       "      <th>SWALLOWING_DIFFICULTY</th>\n",
       "      <th>CHEST_PAIN</th>\n",
       "      <th>LUNG_CANCER</th>\n",
       "    </tr>\n",
       "  </thead>\n",
       "  <tbody>\n",
       "    <tr>\n",
       "      <th>2556</th>\n",
       "      <td>F</td>\n",
       "      <td>70</td>\n",
       "      <td>2</td>\n",
       "      <td>2</td>\n",
       "      <td>1</td>\n",
       "      <td>1</td>\n",
       "      <td>2</td>\n",
       "      <td>2</td>\n",
       "      <td>2</td>\n",
       "      <td>1</td>\n",
       "      <td>1</td>\n",
       "      <td>2</td>\n",
       "      <td>2</td>\n",
       "      <td>1</td>\n",
       "      <td>2</td>\n",
       "      <td>NO</td>\n",
       "    </tr>\n",
       "    <tr>\n",
       "      <th>2779</th>\n",
       "      <td>F</td>\n",
       "      <td>38</td>\n",
       "      <td>2</td>\n",
       "      <td>2</td>\n",
       "      <td>2</td>\n",
       "      <td>1</td>\n",
       "      <td>1</td>\n",
       "      <td>1</td>\n",
       "      <td>1</td>\n",
       "      <td>2</td>\n",
       "      <td>2</td>\n",
       "      <td>1</td>\n",
       "      <td>2</td>\n",
       "      <td>1</td>\n",
       "      <td>1</td>\n",
       "      <td>YES</td>\n",
       "    </tr>\n",
       "    <tr>\n",
       "      <th>575</th>\n",
       "      <td>M</td>\n",
       "      <td>40</td>\n",
       "      <td>2</td>\n",
       "      <td>1</td>\n",
       "      <td>1</td>\n",
       "      <td>2</td>\n",
       "      <td>1</td>\n",
       "      <td>2</td>\n",
       "      <td>1</td>\n",
       "      <td>1</td>\n",
       "      <td>2</td>\n",
       "      <td>1</td>\n",
       "      <td>1</td>\n",
       "      <td>2</td>\n",
       "      <td>2</td>\n",
       "      <td>YES</td>\n",
       "    </tr>\n",
       "    <tr>\n",
       "      <th>2513</th>\n",
       "      <td>M</td>\n",
       "      <td>46</td>\n",
       "      <td>2</td>\n",
       "      <td>1</td>\n",
       "      <td>2</td>\n",
       "      <td>2</td>\n",
       "      <td>1</td>\n",
       "      <td>2</td>\n",
       "      <td>1</td>\n",
       "      <td>1</td>\n",
       "      <td>2</td>\n",
       "      <td>2</td>\n",
       "      <td>1</td>\n",
       "      <td>2</td>\n",
       "      <td>2</td>\n",
       "      <td>YES</td>\n",
       "    </tr>\n",
       "    <tr>\n",
       "      <th>1470</th>\n",
       "      <td>M</td>\n",
       "      <td>61</td>\n",
       "      <td>2</td>\n",
       "      <td>1</td>\n",
       "      <td>1</td>\n",
       "      <td>1</td>\n",
       "      <td>2</td>\n",
       "      <td>2</td>\n",
       "      <td>1</td>\n",
       "      <td>2</td>\n",
       "      <td>1</td>\n",
       "      <td>2</td>\n",
       "      <td>1</td>\n",
       "      <td>2</td>\n",
       "      <td>1</td>\n",
       "      <td>YES</td>\n",
       "    </tr>\n",
       "  </tbody>\n",
       "</table>\n",
       "</div>"
      ],
      "text/plain": [
       "     GENDER  AGE  SMOKING  YELLOW_FINGERS  ANXIETY  PEER_PRESSURE  \\\n",
       "2556      F   70        2               2        1              1   \n",
       "2779      F   38        2               2        2              1   \n",
       "575       M   40        2               1        1              2   \n",
       "2513      M   46        2               1        2              2   \n",
       "1470      M   61        2               1        1              1   \n",
       "\n",
       "      CHRONIC_DISEASE  FATIGUE  ALLERGY  WHEEZING  ALCOHOL_CONSUMING  \\\n",
       "2556                2        2        2         1                  1   \n",
       "2779                1        1        1         2                  2   \n",
       "575                 1        2        1         1                  2   \n",
       "2513                1        2        1         1                  2   \n",
       "1470                2        2        1         2                  1   \n",
       "\n",
       "      COUGHING  SHORTNESS_OF_BREATH  SWALLOWING_DIFFICULTY  CHEST_PAIN  \\\n",
       "2556         2                    2                      1           2   \n",
       "2779         1                    2                      1           1   \n",
       "575          1                    1                      2           2   \n",
       "2513         2                    1                      2           2   \n",
       "1470         2                    1                      2           1   \n",
       "\n",
       "     LUNG_CANCER  \n",
       "2556          NO  \n",
       "2779         YES  \n",
       "575          YES  \n",
       "2513         YES  \n",
       "1470         YES  "
      ]
     },
     "execution_count": 3,
     "metadata": {},
     "output_type": "execute_result"
    }
   ],
   "source": [
    "# Importamos el dataset.\n",
    "dataset = pd.read_csv('Lung_Cancer.csv',encoding='UTF-8')\n",
    "\n",
    "dataset.sample(5)"
   ]
  },
  {
   "cell_type": "code",
   "execution_count": 4,
   "id": "5beb64cb-9ab2-4e51-ac6e-747514727635",
   "metadata": {},
   "outputs": [
    {
     "data": {
      "text/plain": [
       "GENDER                   object\n",
       "AGE                       int64\n",
       "SMOKING                   int64\n",
       "YELLOW_FINGERS            int64\n",
       "ANXIETY                   int64\n",
       "PEER_PRESSURE             int64\n",
       "CHRONIC_DISEASE           int64\n",
       "FATIGUE                   int64\n",
       "ALLERGY                   int64\n",
       "WHEEZING                  int64\n",
       "ALCOHOL_CONSUMING         int64\n",
       "COUGHING                  int64\n",
       "SHORTNESS_OF_BREATH       int64\n",
       "SWALLOWING_DIFFICULTY     int64\n",
       "CHEST_PAIN                int64\n",
       "LUNG_CANCER              object\n",
       "dtype: object"
      ]
     },
     "execution_count": 4,
     "metadata": {},
     "output_type": "execute_result"
    }
   ],
   "source": [
    "# Tipo de datos y dimensiones del Dataset.\n",
    "dataset.dtypes"
   ]
  },
  {
   "cell_type": "code",
   "execution_count": 5,
   "id": "bcd79434-50d8-4968-9b1e-cda02db75efb",
   "metadata": {},
   "outputs": [
    {
     "data": {
      "text/plain": [
       "(3000, 16)"
      ]
     },
     "execution_count": 5,
     "metadata": {},
     "output_type": "execute_result"
    }
   ],
   "source": [
    "# Filas x Columnas.\n",
    "dataset.shape"
   ]
  },
  {
   "cell_type": "code",
   "execution_count": 6,
   "id": "c7b38301-fcc0-472b-9083-eeabf4feccd9",
   "metadata": {},
   "outputs": [
    {
     "data": {
      "text/plain": [
       "GENDER                   0\n",
       "AGE                      0\n",
       "SMOKING                  0\n",
       "YELLOW_FINGERS           0\n",
       "ANXIETY                  0\n",
       "PEER_PRESSURE            0\n",
       "CHRONIC_DISEASE          0\n",
       "FATIGUE                  0\n",
       "ALLERGY                  0\n",
       "WHEEZING                 0\n",
       "ALCOHOL_CONSUMING        0\n",
       "COUGHING                 0\n",
       "SHORTNESS_OF_BREATH      0\n",
       "SWALLOWING_DIFFICULTY    0\n",
       "CHEST_PAIN               0\n",
       "LUNG_CANCER              0\n",
       "dtype: int64"
      ]
     },
     "execution_count": 6,
     "metadata": {},
     "output_type": "execute_result"
    }
   ],
   "source": [
    "# Por lo que podemos observar el Dataset no tiene valores nulos.\n",
    "dataset.isnull().sum()"
   ]
  },
  {
   "cell_type": "code",
   "execution_count": 7,
   "id": "c905338e-9f42-4154-885b-0250c58a7906",
   "metadata": {},
   "outputs": [
    {
     "data": {
      "text/html": [
       "<div>\n",
       "<style scoped>\n",
       "    .dataframe tbody tr th:only-of-type {\n",
       "        vertical-align: middle;\n",
       "    }\n",
       "\n",
       "    .dataframe tbody tr th {\n",
       "        vertical-align: top;\n",
       "    }\n",
       "\n",
       "    .dataframe thead th {\n",
       "        text-align: right;\n",
       "    }\n",
       "</style>\n",
       "<table border=\"1\" class=\"dataframe\">\n",
       "  <thead>\n",
       "    <tr style=\"text-align: right;\">\n",
       "      <th></th>\n",
       "      <th>GENDER</th>\n",
       "      <th>AGE</th>\n",
       "      <th>SMOKING</th>\n",
       "      <th>YELLOW_FINGERS</th>\n",
       "      <th>ANXIETY</th>\n",
       "      <th>PEER_PRESSURE</th>\n",
       "      <th>CHRONIC_DISEASE</th>\n",
       "      <th>FATIGUE</th>\n",
       "      <th>ALLERGY</th>\n",
       "      <th>WHEEZING</th>\n",
       "      <th>ALCOHOL_CONSUMING</th>\n",
       "      <th>COUGHING</th>\n",
       "      <th>SHORTNESS_OF_BREATH</th>\n",
       "      <th>SWALLOWING_DIFFICULTY</th>\n",
       "      <th>CHEST_PAIN</th>\n",
       "      <th>LUNG_CANCER</th>\n",
       "    </tr>\n",
       "  </thead>\n",
       "  <tbody>\n",
       "    <tr>\n",
       "      <th>990</th>\n",
       "      <td>1</td>\n",
       "      <td>66</td>\n",
       "      <td>2</td>\n",
       "      <td>2</td>\n",
       "      <td>1</td>\n",
       "      <td>2</td>\n",
       "      <td>1</td>\n",
       "      <td>1</td>\n",
       "      <td>1</td>\n",
       "      <td>1</td>\n",
       "      <td>2</td>\n",
       "      <td>2</td>\n",
       "      <td>1</td>\n",
       "      <td>1</td>\n",
       "      <td>1</td>\n",
       "      <td>0</td>\n",
       "    </tr>\n",
       "    <tr>\n",
       "      <th>1138</th>\n",
       "      <td>2</td>\n",
       "      <td>59</td>\n",
       "      <td>1</td>\n",
       "      <td>1</td>\n",
       "      <td>1</td>\n",
       "      <td>1</td>\n",
       "      <td>2</td>\n",
       "      <td>2</td>\n",
       "      <td>1</td>\n",
       "      <td>2</td>\n",
       "      <td>2</td>\n",
       "      <td>2</td>\n",
       "      <td>2</td>\n",
       "      <td>1</td>\n",
       "      <td>1</td>\n",
       "      <td>1</td>\n",
       "    </tr>\n",
       "    <tr>\n",
       "      <th>2935</th>\n",
       "      <td>1</td>\n",
       "      <td>79</td>\n",
       "      <td>1</td>\n",
       "      <td>1</td>\n",
       "      <td>2</td>\n",
       "      <td>1</td>\n",
       "      <td>1</td>\n",
       "      <td>2</td>\n",
       "      <td>1</td>\n",
       "      <td>2</td>\n",
       "      <td>1</td>\n",
       "      <td>1</td>\n",
       "      <td>2</td>\n",
       "      <td>2</td>\n",
       "      <td>2</td>\n",
       "      <td>1</td>\n",
       "    </tr>\n",
       "    <tr>\n",
       "      <th>1793</th>\n",
       "      <td>1</td>\n",
       "      <td>60</td>\n",
       "      <td>1</td>\n",
       "      <td>1</td>\n",
       "      <td>1</td>\n",
       "      <td>1</td>\n",
       "      <td>1</td>\n",
       "      <td>1</td>\n",
       "      <td>1</td>\n",
       "      <td>2</td>\n",
       "      <td>1</td>\n",
       "      <td>1</td>\n",
       "      <td>2</td>\n",
       "      <td>1</td>\n",
       "      <td>2</td>\n",
       "      <td>1</td>\n",
       "    </tr>\n",
       "    <tr>\n",
       "      <th>2345</th>\n",
       "      <td>2</td>\n",
       "      <td>56</td>\n",
       "      <td>2</td>\n",
       "      <td>2</td>\n",
       "      <td>1</td>\n",
       "      <td>1</td>\n",
       "      <td>1</td>\n",
       "      <td>1</td>\n",
       "      <td>2</td>\n",
       "      <td>1</td>\n",
       "      <td>2</td>\n",
       "      <td>1</td>\n",
       "      <td>1</td>\n",
       "      <td>1</td>\n",
       "      <td>1</td>\n",
       "      <td>0</td>\n",
       "    </tr>\n",
       "  </tbody>\n",
       "</table>\n",
       "</div>"
      ],
      "text/plain": [
       "      GENDER  AGE  SMOKING  YELLOW_FINGERS  ANXIETY  PEER_PRESSURE  \\\n",
       "990        1   66        2               2        1              2   \n",
       "1138       2   59        1               1        1              1   \n",
       "2935       1   79        1               1        2              1   \n",
       "1793       1   60        1               1        1              1   \n",
       "2345       2   56        2               2        1              1   \n",
       "\n",
       "      CHRONIC_DISEASE  FATIGUE  ALLERGY  WHEEZING  ALCOHOL_CONSUMING  \\\n",
       "990                 1        1        1         1                  2   \n",
       "1138                2        2        1         2                  2   \n",
       "2935                1        2        1         2                  1   \n",
       "1793                1        1        1         2                  1   \n",
       "2345                1        1        2         1                  2   \n",
       "\n",
       "      COUGHING  SHORTNESS_OF_BREATH  SWALLOWING_DIFFICULTY  CHEST_PAIN  \\\n",
       "990          2                    1                      1           1   \n",
       "1138         2                    2                      1           1   \n",
       "2935         1                    2                      2           2   \n",
       "1793         1                    2                      1           2   \n",
       "2345         1                    1                      1           1   \n",
       "\n",
       "      LUNG_CANCER  \n",
       "990             0  \n",
       "1138            1  \n",
       "2935            1  \n",
       "1793            1  \n",
       "2345            0  "
      ]
     },
     "execution_count": 7,
     "metadata": {},
     "output_type": "execute_result"
    }
   ],
   "source": [
    "# Reconvertimos el género y el diagnóstico de Cáncer de Pulmón a valores enteros: (1: Femenino, 2: Masculino), (1: Si, 2: No).\n",
    "data = dataset.copy()\n",
    "data['GENDER'] = data.GENDER.map({'M' : 2, 'F' : 1})\n",
    "data.LUNG_CANCER = data.LUNG_CANCER.map({'YES': 1, 'NO': 0})\n",
    "data.sample(5)"
   ]
  },
  {
   "cell_type": "code",
   "execution_count": 8,
   "id": "d06f1fbf-2888-4be0-8b89-1269b3b6f4a2",
   "metadata": {},
   "outputs": [],
   "source": [
    "#Ver si hay duplicados\n",
    "#\n",
    "#\n",
    "#"
   ]
  }
 ],
 "metadata": {
  "kernelspec": {
   "display_name": "Python 3 (ipykernel)",
   "language": "python",
   "name": "python3"
  },
  "language_info": {
   "codemirror_mode": {
    "name": "ipython",
    "version": 3
   },
   "file_extension": ".py",
   "mimetype": "text/x-python",
   "name": "python",
   "nbconvert_exporter": "python",
   "pygments_lexer": "ipython3",
   "version": "3.12.3"
  }
 },
 "nbformat": 4,
 "nbformat_minor": 5
}
